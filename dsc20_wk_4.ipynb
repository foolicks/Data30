{
  "nbformat": 4,
  "nbformat_minor": 0,
  "metadata": {
    "colab": {
      "provenance": [],
      "authorship_tag": "ABX9TyNpGai3cBnZ3ASlDqyvZ2WQ"
    },
    "kernelspec": {
      "name": "python3",
      "display_name": "Python 3"
    },
    "language_info": {
      "name": "python"
    }
  },
  "cells": [
    {
      "cell_type": "code",
      "execution_count": null,
      "metadata": {
        "id": "f9v6SJdhmx2B"
      },
      "outputs": [],
      "source": [
        "class Mom:\n",
        "  saying1 = \"Wash your hands\"\n",
        "  def __init__(self, last_name)"
      ]
    }
  ]
}