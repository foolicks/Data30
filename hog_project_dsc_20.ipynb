{
  "nbformat": 4,
  "nbformat_minor": 0,
  "metadata": {
    "colab": {
      "provenance": [],
      "authorship_tag": "ABX9TyP4Vlx4UL4tIKnLH31mkdHe"
    },
    "kernelspec": {
      "name": "python3",
      "display_name": "Python 3"
    },
    "language_info": {
      "name": "python"
    }
  },
  "cells": [
    {
      "cell_type": "code",
      "source": [
        "import random\n",
        "import copy\n",
        "score = 0\n"
      ],
      "metadata": {
        "id": "XFM627mfaYtI"
      },
      "execution_count": null,
      "outputs": []
    },
    {
      "cell_type": "code",
      "source": [
        "\"\"\"\n",
        "when to use an exception vs an assert in the context of the user input\n",
        "\"\"\""
      ],
      "metadata": {
        "colab": {
          "base_uri": "https://localhost:8080/",
          "height": 36
        },
        "id": "0UHaL-fPcHUX",
        "outputId": "0eabbfed-39e2-43bc-c52a-d1dea6add1c5"
      },
      "execution_count": null,
      "outputs": [
        {
          "output_type": "execute_result",
          "data": {
            "text/plain": [
              "'\\nwhen to use an exception vs an assert in the context of the user input\\n'"
            ],
            "application/vnd.google.colaboratory.intrinsic+json": {
              "type": "string"
            }
          },
          "metadata": {},
          "execution_count": 3
        }
      ]
    },
    {
      "cell_type": "code",
      "execution_count": null,
      "metadata": {
        "colab": {
          "base_uri": "https://localhost:8080/"
        },
        "id": "vvkS4cqqKv_O",
        "outputId": "bfa2b243-4472-47b9-bfdc-6ffc32abb466"
      },
      "outputs": [
        {
          "name": "stdout",
          "output_type": "stream",
          "text": [
            "num of dice 5\n"
          ]
        }
      ],
      "source": [
        "player_choice = input(\"num of dice \")\n",
        "\n",
        "\n",
        "player_choice = (int(player_choice))\n",
        "# assert int(player_choice),\"incorrect form inserted need integers\"\n",
        "\n",
        "# TODO make an exception to catch the type exception\n",
        "\n",
        "\n",
        "\n",
        "\n"
      ]
    },
    {
      "cell_type": "code",
      "source": [
        "each_die = [0]* player_choice\n",
        "# TODO how to make the length of a list with only one arg"
      ],
      "metadata": {
        "colab": {
          "base_uri": "https://localhost:8080/"
        },
        "id": "m9FiLzrsYKtV",
        "outputId": "d470700c-aa5d-402f-f0b4-379ceb6761f1"
      },
      "execution_count": null,
      "outputs": [
        {
          "output_type": "stream",
          "name": "stdout",
          "text": [
            "5\n"
          ]
        }
      ]
    },
    {
      "cell_type": "code",
      "source": [
        "print(len(each_die))\n",
        "fill_in_die_choices = []"
      ],
      "metadata": {
        "colab": {
          "base_uri": "https://localhost:8080/"
        },
        "id": "tmBkD3zQ2JBb",
        "outputId": "02ad8111-4f69-4749-cf91-722c07cd47dc"
      },
      "execution_count": null,
      "outputs": [
        {
          "output_type": "stream",
          "name": "stdout",
          "text": [
            "5\n"
          ]
        }
      ]
    },
    {
      "cell_type": "code",
      "source": [
        "for i in range(len(each_die)):\n",
        "  fill_in_die_choices.append(random.randint(1,6))"
      ],
      "metadata": {
        "id": "YvE4AfjJ2c7L"
      },
      "execution_count": null,
      "outputs": []
    },
    {
      "cell_type": "code",
      "source": [
        "print(fill_in_die_choices)"
      ],
      "metadata": {
        "colab": {
          "base_uri": "https://localhost:8080/"
        },
        "id": "NovM-nWO62dk",
        "outputId": "4d2dbafb-2d1b-4137-82a2-622afeca6303"
      },
      "execution_count": null,
      "outputs": [
        {
          "output_type": "stream",
          "name": "stdout",
          "text": [
            "[1, 3, 3, 4, 4]\n"
          ]
        }
      ]
    },
    {
      "cell_type": "code",
      "source": [
        "all_dice_check = []\n",
        "for i in (fill_in_die_choices):\n",
        "  if i == 1:\n",
        "    all_dice_check.append(i)\n",
        "  else:\n",
        "    pass"
      ],
      "metadata": {
        "id": "ZKj4NdyyX-LJ"
      },
      "execution_count": null,
      "outputs": []
    },
    {
      "cell_type": "code",
      "source": [
        "all_dice_check\n"
      ],
      "metadata": {
        "colab": {
          "base_uri": "https://localhost:8080/"
        },
        "id": "nT_k179q-vBq",
        "outputId": "d15bcc43-a992-42e9-ad1a-6426752b65e1"
      },
      "execution_count": null,
      "outputs": [
        {
          "output_type": "execute_result",
          "data": {
            "text/plain": [
              "[1]"
            ]
          },
          "metadata": {},
          "execution_count": 44
        }
      ]
    },
    {
      "cell_type": "code",
      "source": [
        "if len(all_dice_check) == len(fill_in_die_choices):\n",
        "  score = 0\n",
        "else:\n",
        "  score = sum(fill_in_die_choices)"
      ],
      "metadata": {
        "id": "fhXx20xz--xF"
      },
      "execution_count": null,
      "outputs": []
    },
    {
      "cell_type": "code",
      "source": [
        "score"
      ],
      "metadata": {
        "colab": {
          "base_uri": "https://localhost:8080/"
        },
        "id": "To8u5c8PBGyE",
        "outputId": "dc34bad9-e5a5-488f-deb1-61a3a97ae780"
      },
      "execution_count": null,
      "outputs": [
        {
          "output_type": "execute_result",
          "data": {
            "text/plain": [
              "15"
            ]
          },
          "metadata": {},
          "execution_count": 46
        }
      ]
    },
    {
      "cell_type": "code",
      "source": [],
      "metadata": {
        "id": "6rlTKOLlBIWP"
      },
      "execution_count": null,
      "outputs": []
    }
  ]
}